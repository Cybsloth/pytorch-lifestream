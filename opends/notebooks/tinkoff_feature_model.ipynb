version https://git-lfs.github.com/spec/v1
oid sha256:9d50c914e9c3bce1f6901d5bc1de0fc672cb9f6e8b2913a0b4533c429c7407d8
size 130155
