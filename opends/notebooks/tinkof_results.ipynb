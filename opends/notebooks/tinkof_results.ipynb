version https://git-lfs.github.com/spec/v1
oid sha256:64ad7edd8f9a5628cee7234a985abf4e108ee719ead8b0daae99558ec7b9784b
size 197882
