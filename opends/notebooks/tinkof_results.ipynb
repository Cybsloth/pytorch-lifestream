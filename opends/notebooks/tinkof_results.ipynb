version https://git-lfs.github.com/spec/v1
oid sha256:44f1f04e3b6f0bcde075d8a37c555cd2b45d311c5181b1dfae9abadabaab7aab
size 135412
