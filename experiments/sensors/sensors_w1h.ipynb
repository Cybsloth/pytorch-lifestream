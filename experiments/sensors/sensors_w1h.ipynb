version https://git-lfs.github.com/spec/v1
oid sha256:8afd098ded68b75059fd36ee577fc19ce407ca8fdb90212cafb514a627f00a7c
size 40140044
