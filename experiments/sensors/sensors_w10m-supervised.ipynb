version https://git-lfs.github.com/spec/v1
oid sha256:7a25aff48d278650dd36cb79469383007b76a75cfb68592b52b84f4b888bec3b
size 3238544
